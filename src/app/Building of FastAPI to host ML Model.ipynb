{
 "cells": [
  {
   "cell_type": "code",
   "execution_count": 1,
   "id": "9fae3259",
   "metadata": {},
   "outputs": [
    {
     "name": "stdout",
     "output_type": "stream",
     "text": [
      "Requirement already satisfied: fastapi in c:\\users\\qa592mk\\appdata\\roaming\\python\\python38\\site-packages (0.78.0)\n",
      "Requirement already satisfied: uvicorn in c:\\users\\qa592mk\\appdata\\roaming\\python\\python38\\site-packages (0.17.6)\n",
      "Requirement already satisfied: pydantic!=1.7,!=1.7.1,!=1.7.2,!=1.7.3,!=1.8,!=1.8.1,<2.0.0,>=1.6.2 in c:\\users\\qa592mk\\appdata\\roaming\\python\\python38\\site-packages (from fastapi) (1.9.1)\n",
      "Requirement already satisfied: starlette==0.19.1 in c:\\users\\qa592mk\\appdata\\roaming\\python\\python38\\site-packages (from fastapi) (0.19.1)\n",
      "Requirement already satisfied: typing-extensions>=3.10.0 in c:\\users\\qa592mk\\anaconda3\\lib\\site-packages (from starlette==0.19.1->fastapi) (4.2.0)\n",
      "Requirement already satisfied: anyio<5,>=3.4.0 in c:\\users\\qa592mk\\appdata\\roaming\\python\\python38\\site-packages (from starlette==0.19.1->fastapi) (3.6.1)\n",
      "Requirement already satisfied: sniffio>=1.1 in c:\\users\\qa592mk\\anaconda3\\lib\\site-packages (from anyio<5,>=3.4.0->starlette==0.19.1->fastapi) (1.2.0)\n",
      "Requirement already satisfied: idna>=2.8 in c:\\users\\qa592mk\\anaconda3\\lib\\site-packages (from anyio<5,>=3.4.0->starlette==0.19.1->fastapi) (2.10)\n",
      "Requirement already satisfied: click>=7.0 in c:\\users\\qa592mk\\anaconda3\\lib\\site-packages (from uvicorn) (7.1.2)\n",
      "Requirement already satisfied: asgiref>=3.4.0 in c:\\users\\qa592mk\\appdata\\roaming\\python\\python38\\site-packages (from uvicorn) (3.5.2)\n",
      "Requirement already satisfied: h11>=0.8 in c:\\users\\qa592mk\\appdata\\roaming\\python\\python38\\site-packages (from uvicorn) (0.13.0)\n"
     ]
    }
   ],
   "source": [
    "!pip install fastapi uvicorn --user"
   ]
  },
  {
   "cell_type": "code",
   "execution_count": 10,
   "id": "02493c8d",
   "metadata": {},
   "outputs": [
    {
     "name": "stderr",
     "output_type": "stream",
     "text": [
      "'uvicorn' is not recognized as an internal or external command,\n",
      "operable program or batch file.\n"
     ]
    }
   ],
   "source": [
    "!uvicorn main:app --reload"
   ]
  },
  {
   "cell_type": "code",
   "execution_count": null,
   "id": "fbfa23d6",
   "metadata": {},
   "outputs": [],
   "source": []
  },
  {
   "cell_type": "code",
   "execution_count": 9,
   "id": "5636e100",
   "metadata": {},
   "outputs": [
    {
     "ename": "AttributeError",
     "evalue": "'FastAPI' object has no attribute 'run'",
     "output_type": "error",
     "traceback": [
      "\u001b[1;31m---------------------------------------------------------------------------\u001b[0m",
      "\u001b[1;31mAttributeError\u001b[0m                            Traceback (most recent call last)",
      "\u001b[1;32m<ipython-input-9-4b2bf4d765be>\u001b[0m in \u001b[0;36m<module>\u001b[1;34m\u001b[0m\n\u001b[0;32m     41\u001b[0m \u001b[1;33m\u001b[0m\u001b[0m\n\u001b[0;32m     42\u001b[0m \u001b[1;32mif\u001b[0m \u001b[0m__name__\u001b[0m \u001b[1;33m==\u001b[0m \u001b[1;34m\"__main__\"\u001b[0m\u001b[1;33m:\u001b[0m\u001b[1;33m\u001b[0m\u001b[1;33m\u001b[0m\u001b[0m\n\u001b[1;32m---> 43\u001b[1;33m     \u001b[0mapp\u001b[0m\u001b[1;33m.\u001b[0m\u001b[0mrun\u001b[0m\u001b[1;33m(\u001b[0m\u001b[0mdebug\u001b[0m\u001b[1;33m=\u001b[0m\u001b[1;32mTrue\u001b[0m\u001b[1;33m,\u001b[0m \u001b[0mhost\u001b[0m\u001b[1;33m=\u001b[0m\u001b[1;34m\"0.0.0.0\"\u001b[0m\u001b[1;33m)\u001b[0m\u001b[1;33m\u001b[0m\u001b[1;33m\u001b[0m\u001b[0m\n\u001b[0m",
      "\u001b[1;31mAttributeError\u001b[0m: 'FastAPI' object has no attribute 'run'"
     ]
    }
   ],
   "source": [
    "from fastapi import FastAPI\n",
    "import uvicorn\n",
    "import joblib\n",
    "from pydantic import BaseModel\n",
    "with open(\"heartdisease.pkl\",\"rb\") as file:\n",
    "    transformer = joblib.load(file)\n",
    "\n",
    "\n",
    "app = FastAPI()\n",
    "\n",
    "\n",
    "# data validation\n",
    "class request_body(BaseModel):\n",
    "    Age:int\n",
    "    Sex:str\n",
    "    ChestPainType: str\n",
    "    RestingBP:int\n",
    "    Cholesterol:int\n",
    "    FastingBS:int\n",
    "    RestingECG: str\n",
    "    MaxHR:int\n",
    "    Oldpeak:int\n",
    "    ExerciseAngina: str\n",
    "    Oldpeak: float\n",
    "    ST_Slope: str\n",
    "    Heartdisease: int\n",
    "\n",
    "\n",
    "@app.post(\"/predict\")\n",
    "def fun1(data:request_body):\n",
    "    data2 = [[data.Age,data.Sex,data.ChestPainType,data.RestingBP,data.Cholesterol,data.FastingBS,data.MaxHR,data.Oldpeak,data.ExerciseAngina,data.ST_Slope,data.Heartdisease]]\n",
    "    data2 = transformer.transform(data2)\n",
    "    pred = transformer.predict(data2)\n",
    "    return {\"Prediction\":pred}\n",
    "\n",
    "\n",
    "@app.get(\"/EY\")\n",
    "def fun2():\n",
    "    return {\"message\":\"Heart disease\"}\n",
    "\n",
    "\n",
    "if __name__ == \"__main__\":\n",
    "    app.run(debug=True, host=\"0.0.0.0\")"
   ]
  },
  {
   "cell_type": "code",
   "execution_count": null,
   "id": "5eed3f02",
   "metadata": {},
   "outputs": [],
   "source": []
  },
  {
   "cell_type": "code",
   "execution_count": null,
   "id": "ba3ce401",
   "metadata": {},
   "outputs": [],
   "source": []
  }
 ],
 "metadata": {
  "kernelspec": {
   "display_name": "Python 3",
   "language": "python",
   "name": "python3"
  },
  "language_info": {
   "codemirror_mode": {
    "name": "ipython",
    "version": 3
   },
   "file_extension": ".py",
   "mimetype": "text/x-python",
   "name": "python",
   "nbconvert_exporter": "python",
   "pygments_lexer": "ipython3",
   "version": "3.8.8"
  }
 },
 "nbformat": 4,
 "nbformat_minor": 5
}
