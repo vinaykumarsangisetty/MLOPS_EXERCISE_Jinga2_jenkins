{
 "cells": [
  {
   "cell_type": "code",
   "execution_count": 1,
   "id": "9f2e0d0b",
   "metadata": {},
   "outputs": [
    {
     "name": "stdout",
     "output_type": "stream",
     "text": [
      "Requirement already satisfied: mysql in c:\\users\\qa592mk\\anaconda3\\lib\\site-packages (0.0.3)\n",
      "Requirement already satisfied: mysqlclient in c:\\users\\qa592mk\\anaconda3\\lib\\site-packages (from mysql) (2.1.1)\n"
     ]
    }
   ],
   "source": [
    "!pip install mysql --user"
   ]
  },
  {
   "cell_type": "code",
   "execution_count": null,
   "id": "b8255c1a",
   "metadata": {},
   "outputs": [],
   "source": [
    "\"\"\"\n",
    "async def form_post(request: Request, Session = Depends(get_db),Age:heartdisease.Age = Form(...),Sex:heartdisease.Sex=Form(...),RestingBP:heartdisease.RestingBP=Form(...),Cholesterol:heartdisease.Cholesterol=Form(...),FastingBS:heartdisease.FastingBS=Form(...),MaxHR:heartdisease.MaxHR=Form(...), Oldpeak: heartdisease.Oldpeak = Form(...),ASY:heartdisease.ASY=Form(...),ATA:heartdisease.ATA=Form(...),NAP:heartdisease.NAP=Form(...),TA:heartdisease.TA=Form(...),LVH:heartdisease.LVH=Form(...), Normal: heartdisease.Normal = Form(...),ST:heartdisease.ST=Form(...),N:heartdisease.N=Form(...),Y:heartdisease.Y=Form(...),Down:heartdisease.Down=Form(...),Flat:heartdisease.Flat=Form(...), Up: heartdisease.Up = Form(...)):\n",
    "\"\"\""
   ]
  }
 ],
 "metadata": {
  "kernelspec": {
   "display_name": "Python 3",
   "language": "python",
   "name": "python3"
  },
  "language_info": {
   "codemirror_mode": {
    "name": "ipython",
    "version": 3
   },
   "file_extension": ".py",
   "mimetype": "text/x-python",
   "name": "python",
   "nbconvert_exporter": "python",
   "pygments_lexer": "ipython3",
   "version": "3.8.8"
  }
 },
 "nbformat": 4,
 "nbformat_minor": 5
}
